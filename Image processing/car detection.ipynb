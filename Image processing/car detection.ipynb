{
 "cells": [
  {
   "cell_type": "code",
   "execution_count": 1,
   "id": "3817c630",
   "metadata": {},
   "outputs": [],
   "source": [
    "import cv2\n",
    "import glob\n",
    "\n",
    "\n",
    "from vehicle_detector import VehicleDetector\n",
    "# Load Veichle Detector\n",
    "vd = VehicleDetector()"
   ]
  },
  {
   "cell_type": "code",
   "execution_count": 2,
   "id": "638bf028",
   "metadata": {},
   "outputs": [
    {
     "name": "stdout",
     "output_type": "stream",
     "text": [
      "Img path Cars\\1.jpg\n",
      "Img path Cars\\2.jpg\n",
      "Img path Cars\\3.jpg\n",
      "Img path Cars\\4.jpg\n",
      "Img path Cars\\5.jpg\n",
      "Img path Cars\\6.jpg\n",
      "Img path Cars\\7.jpg\n",
      "Img path Cars\\8.jpg\n",
      "Total current count 54\n"
     ]
    }
   ],
   "source": [
    "\n",
    "\n",
    "...\n",
    "\n",
    "\n",
    "# Load images from a folder\n",
    "images_folder = glob.glob(\"Cars/*.jpg\")\n",
    "\n",
    "vehicles_folder_count = 0\n",
    "\n",
    "# Loop through all the images\n",
    "for img_path in images_folder:\n",
    "    print(\"Img path\", img_path)\n",
    "    img = cv2.imread(img_path)\n",
    "\n",
    "    vehicle_boxes = vd.detect_vehicles(img)\n",
    "    vehicle_count = len(vehicle_boxes)\n",
    "\n",
    "    # Update total count\n",
    "    vehicles_folder_count += vehicle_count\n",
    "\n",
    "    for box in vehicle_boxes:\n",
    "        x, y, w, h = box\n",
    "\n",
    "        cv2.rectangle(img, (x, y), (x + w, y + h), (25, 0, 180), 3)\n",
    "\n",
    "        cv2.putText(img, \"Vehicles: \" + str(vehicle_count), (20, 50), 1, 2, (0, 0, 0), 3)\n",
    "\n",
    "    cv2.imshow(\"Cars\", img)\n",
    "    cv2.waitKey(1)\n",
    "\n",
    "print(\"Total current count\", vehicles_folder_count)"
   ]
  },
  {
   "cell_type": "code",
   "execution_count": 2,
   "id": "7bc271af",
   "metadata": {},
   "outputs": [
    {
     "data": {
      "text/plain": [
       "-1"
      ]
     },
     "execution_count": 2,
     "metadata": {},
     "output_type": "execute_result"
    }
   ],
   "source": [
    "import cv2\n",
    "pic = cv2.imread(\"images/pexels-jose-mueses-1280560.jpg\")\n",
    "\n",
    "cv2.imshow(\"cars\",pic)\n",
    "cv2.waitKey(0)"
   ]
  },
  {
   "cell_type": "code",
   "execution_count": 1,
   "id": "fcd2f77f",
   "metadata": {},
   "outputs": [
    {
     "data": {
      "text/plain": [
       "[1, 2, 3, 4, 5, 6]"
      ]
     },
     "execution_count": 1,
     "metadata": {},
     "output_type": "execute_result"
    }
   ],
   "source": [
    "a=[1,2,3,4,5,6]\n",
    "a\n"
   ]
  },
  {
   "cell_type": "code",
   "execution_count": 2,
   "id": "cee9606b",
   "metadata": {},
   "outputs": [
    {
     "data": {
      "text/plain": [
       "6"
      ]
     },
     "execution_count": 2,
     "metadata": {},
     "output_type": "execute_result"
    }
   ],
   "source": [
    "len(a)"
   ]
  },
  {
   "cell_type": "code",
   "execution_count": null,
   "id": "45c95716",
   "metadata": {},
   "outputs": [],
   "source": []
  },
  {
   "cell_type": "code",
   "execution_count": 3,
   "id": "cfcb5dd0",
   "metadata": {},
   "outputs": [],
   "source": [
    "import cv2\n",
    "import glob"
   ]
  },
  {
   "cell_type": "code",
   "execution_count": 7,
   "id": "5b718783",
   "metadata": {},
   "outputs": [
    {
     "name": "stdout",
     "output_type": "stream",
     "text": [
      "0\n"
     ]
    },
    {
     "data": {
      "text/plain": [
       "-1"
      ]
     },
     "execution_count": 7,
     "metadata": {},
     "output_type": "execute_result"
    }
   ],
   "source": [
    "import cv2\n",
    "from vehicle_detector import VehicleDetector\n",
    "# Load Veichle Detector\n",
    "vd = VehicleDetector()\n",
    "\n",
    "vehicles_folder_count = 0\n",
    "img = cv2.imread('15.jpg')\n",
    "\n",
    "vehicle_boxes = vd.detect_vehicles(img)\n",
    "\n",
    "\n",
    "for box in vehicle_boxes:\n",
    "        x, y, w, h = box\n",
    "\n",
    "        cv2.rectangle(img, (x, y), (x + w, y + h), (25, 0, 180), 3)\n",
    "\n",
    "print(vehicles_folder_count)\n",
    "cv2.imshow(\"Cars\", img)\n",
    "cv2.waitKey(0)"
   ]
  },
  {
   "cell_type": "code",
   "execution_count": 3,
   "id": "3a399b0e",
   "metadata": {},
   "outputs": [
    {
     "name": "stdout",
     "output_type": "stream",
     "text": [
      "Vehicle density of the cars : 11\n",
      "the Lane1  11  has highest count \n",
      "\n",
      "The lane turn On for 8.25 seconds duration of time\n"
     ]
    }
   ],
   "source": [
    "import cv2\n",
    "import numpy as np\n",
    "import glob\n",
    "\n",
    "class Vehicle_detect:\n",
    "    def __init__(self,path):\n",
    "        self.path=path\n",
    "        from vehicle_detector import VehicleDetector\n",
    "        # Load Veichle Detector\n",
    "        vd = VehicleDetector()\n",
    "\n",
    "        vehicles_folder_count = 0\n",
    "        \n",
    "        img = cv2.imread(path)\n",
    "\n",
    "        vehicle_boxes = vd.detect_vehicles(img)\n",
    "        vehicle_count = len(vehicle_boxes)\n",
    "        vehicles_folder_count += vehicle_count\n",
    "\n",
    "        for box in vehicle_boxes:\n",
    "                x, y, w, h = box\n",
    "\n",
    "                cv2.rectangle(img, (x, y), (x + w, y + h), (25, 0, 180), 3)\n",
    "                cv2.putText(img, \"Vehicles: \" + str(vehicle_count), (20, 50), 0, 1, (100, 200, 0), 3)\n",
    "                count = vehicle_count\n",
    "                \n",
    "        \n",
    "        print('Vehicle density of the cars :',count)\n",
    "        print(\"the Lane1 \",count,\" has highest count \\n\")\n",
    "        print(\"The lane turn On for\",count*0.75,\"seconds duration of time\")\n",
    "        cv2.imshow(\"Cars\", img)\n",
    "        cv2.waitKey(0)\n",
    "        \n",
    "        \n",
    "       \n",
    "class Car_detect:\n",
    "    def __init__(self,path):\n",
    "        self.path=path\n",
    "        \n",
    "        #Video Uploading\n",
    "        cap = cv2.VideoCapture(path)\n",
    "\n",
    "        min_Width=50\n",
    "        min_Height=50\n",
    "\n",
    "        count_line_pos = 600\n",
    "\n",
    "        #Intialize Substructor\n",
    "\n",
    "        algo = cv2.createBackgroundSubtractorMOG2()\n",
    "\n",
    "        def Center(x,y,w,h):\n",
    "            x1=int(w/2)\n",
    "            y1=int(h/2)\n",
    "            cx=x+x1\n",
    "            cy=y+y1\n",
    "            return cx,cy\n",
    "\n",
    "        detect = []\n",
    "\n",
    "        offset=6\n",
    "        counter=0\n",
    "\n",
    "        while True:\n",
    "            ret,frame1=cap.read()\n",
    "            grey = cv2.cvtColor(frame1,cv2.COLOR_BGR2GRAY)\n",
    "            blur = cv2.GaussianBlur(grey,(3,3),5)\n",
    "\n",
    "            # Applying on each frame\n",
    "            img_sub = algo.apply(blur)\n",
    "            dilat = cv2.dilate(img_sub,np.ones((5,5)))\n",
    "            kernel = cv2.getStructuringElement(cv2.MORPH_ELLIPSE,(5,5))\n",
    "            dilatada = cv2.morphologyEx(dilat, cv2.MORPH_CLOSE, kernel)\n",
    "            dilatada = cv2.morphologyEx(dilatada,cv2.MORPH_CLOSE,kernel)\n",
    "            countershape,h=cv2.findContours(dilatada,cv2.RETR_TREE,cv2.CHAIN_APPROX_SIMPLE)\n",
    "\n",
    "\n",
    "            cv2.line(frame1,(25,count_line_pos),(1200,count_line_pos),(255,127,0),3)\n",
    "\n",
    "\n",
    "            for (i,c) in enumerate(countershape):\n",
    "                (x,y,w,h)=cv2.boundingRect(c)\n",
    "                validate_count = (w >= min_Width) and (h>= min_Height)\n",
    "                if not validate_count:\n",
    "                    continue\n",
    "\n",
    "                cv2.rectangle(frame1,(x,y),(x+w,y+h),(0,255,0),2)\n",
    "\n",
    "                centre=Center(x,y,w,h)\n",
    "                detect.append(centre)\n",
    "                cv2.circle(frame1,centre,4,(0,0,255),-1)\n",
    "\n",
    "                for (x,y) in detect:\n",
    "                    if y<(count_line_pos+offset) and y>(count_line_pos-offset):\n",
    "                        counter+=1\n",
    "                    cv2.line(frame1,(25,count_line_pos),(1200,count_line_pos),(0,127,255),3)\n",
    "                    detect.remove((x,y))\n",
    "                    print(\"Vechicle Counter:\"+str(counter))\n",
    "\n",
    "            cv2.putText(frame1,\"Vechilce counter :\"+str(counter),(450,70),cv2.FONT_HERSHEY_SIMPLEX,2,(0,0,255),5)\n",
    "\n",
    "\n",
    "#             cv2.imshow(\"video Original\",dilatada)\n",
    "            cv2.imshow(\"video Original\",frame1)\n",
    "\n",
    "            if cv2.waitKey(1) == 13:\n",
    "                break\n",
    "\n",
    "        cv2.destroyAllWindows()\n",
    "        cap.release()\n",
    "    \n",
    "cars = Vehicle_detect('20.jpg')\n",
    "\n",
    "#car = Car_detect('video.mp4')"
   ]
  },
  {
   "cell_type": "code",
   "execution_count": 1,
   "id": "c8729b41",
   "metadata": {},
   "outputs": [
    {
     "name": "stdout",
     "output_type": "stream",
     "text": [
      "the LAne *** has highest count \n",
      "\n",
      "The lane turn oN for *** duration of time\n"
     ]
    }
   ],
   "source": [
    "print(\"the LAne *** has highest count \\n\")\n",
    "print(\"The lane turn oN for *** duration of time\")"
   ]
  },
  {
   "cell_type": "code",
   "execution_count": null,
   "id": "6f474795",
   "metadata": {},
   "outputs": [],
   "source": []
  }
 ],
 "metadata": {
  "kernelspec": {
   "display_name": "Python 3 (ipykernel)",
   "language": "python",
   "name": "python3"
  },
  "language_info": {
   "codemirror_mode": {
    "name": "ipython",
    "version": 3
   },
   "file_extension": ".py",
   "mimetype": "text/x-python",
   "name": "python",
   "nbconvert_exporter": "python",
   "pygments_lexer": "ipython3",
   "version": "3.9.7"
  }
 },
 "nbformat": 4,
 "nbformat_minor": 5
}
