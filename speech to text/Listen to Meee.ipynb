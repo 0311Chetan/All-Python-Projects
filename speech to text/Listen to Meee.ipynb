{
 "cells": [
  {
   "cell_type": "code",
   "execution_count": 25,
   "id": "0e22618a",
   "metadata": {},
   "outputs": [],
   "source": [
    "from googletrans import Translator\n",
    "import speech_recognition as sr\n",
    "from playsound import playsound\n",
    "from gtts import gTTS\n",
    "import pywhatkit\n",
    "import datetime\n",
    "import pyttsx3\n",
    "import wikipedia\n",
    "import pyjokes\n",
    "import os"
   ]
  },
  {
   "cell_type": "code",
   "execution_count": 26,
   "id": "69ec126a",
   "metadata": {},
   "outputs": [],
   "source": [
    "engine = pyttsx3.init()\n",
    "translator = Translator()\n",
    "\n",
    "\n",
    "voices = engine.getProperty('voices')\n",
    "engine.setProperty('voice', voices[1].id)\n",
    "engine.setProperty('rate',160)\n",
    "engine.setProperty('volume',1)\n",
    "\n"
   ]
  },
  {
   "cell_type": "code",
   "execution_count": 27,
   "id": "8bcfb6d5",
   "metadata": {},
   "outputs": [],
   "source": [
    "def speka(text):\n",
    "    engine.say(text)\n",
    "    engine.runAndWait()\n",
    "\n",
    "        \n",
    "def talk(text,lang=langu):\n",
    "    tr = translator.translate(text,dest=lang)\n",
    "    print(tr.text)\n",
    "    speak = gTTS(text=tr.text, lang=lang, slow=False)\n",
    "    speak.save(\"captured_voice.mp3\")\n",
    "    playsound(\"captured_voice.mp3\")\n",
    "    os.remove('captured_voice.mp3')\n",
    "    return \n",
    "    "
   ]
  },
  {
   "cell_type": "code",
   "execution_count": null,
   "id": "45871d3d",
   "metadata": {},
   "outputs": [],
   "source": []
  },
  {
   "cell_type": "code",
   "execution_count": 28,
   "id": "5584d7a5",
   "metadata": {},
   "outputs": [],
   "source": [
    "def language():\n",
    "    speka('Select the language for Your Alexa...')\n",
    "    try:\n",
    "        r = sr.Recognizer()\n",
    "        with sr.Microphone() as source:\n",
    "            print(\"listening.....\")\n",
    "            r.pause_threshold = 1\n",
    "            audio = r.listen(source)\n",
    "            \n",
    "        print(\"Recognizing.....\")\n",
    "        comm = r.recognize_google(audio, language='langu')\n",
    "        abc = f\"you have selected the {comm} language for your Alexa\\n\"\n",
    "        print(abc)\n",
    "        speka(abc)\n",
    "        \n",
    "    except Exception as e:\n",
    "        print(\"say that again please.....\")\n",
    "        return \"None\"\n",
    "    \n",
    "    return comm"
   ]
  },
  {
   "cell_type": "code",
   "execution_count": 29,
   "id": "8b786733",
   "metadata": {},
   "outputs": [
    {
     "name": "stdout",
     "output_type": "stream",
     "text": [
      "en\n"
     ]
    }
   ],
   "source": [
    "print(langu)"
   ]
  },
  {
   "cell_type": "code",
   "execution_count": 30,
   "id": "1e0d91d9",
   "metadata": {},
   "outputs": [],
   "source": [
    "def transl(langu):\n",
    "    comm = language()\n",
    "    print(comm)\n",
    "    text = 'mein aapake lie kya kar sakatee hu'\n",
    "    \n",
    "    if 'Hindi' in comm:\n",
    "        langu = 'hi'\n",
    "        talk(text,langu)\n",
    "        \n",
    "    elif 'Kannada' in comm:\n",
    "        langu = 'kn'\n",
    "        talk(text,langu)\n",
    "        \n",
    "    elif 'English' in comm:\n",
    "        langu = 'en'\n",
    "        talk(text,langu)\n",
    "        \n",
    "    else:\n",
    "        talk('Please Select Other language...')\n",
    "        \n",
    "    return print(langu)"
   ]
  },
  {
   "cell_type": "code",
   "execution_count": 31,
   "id": "e3387e4b",
   "metadata": {},
   "outputs": [],
   "source": [
    "# transl(langu)"
   ]
  },
  {
   "cell_type": "code",
   "execution_count": 32,
   "id": "1b2d1b4b",
   "metadata": {},
   "outputs": [],
   "source": [
    "def take_command():\n",
    "    try:\n",
    "        listener = sr.Recognizer()\n",
    "        with sr.Microphone() as source:\n",
    "            print('listening...')\n",
    "            voice = listener.listen(source)\n",
    "            commnd = listener.recognize_google(voice,language=langu)\n",
    "            commnd = commnd.lower()\n",
    "            if 'alexa' in commnd:\n",
    "                commnd = commnd.replace('alexa', '')\n",
    "                print(commnd)\n",
    "    except:\n",
    "        pass\n",
    "    return commnd"
   ]
  },
  {
   "cell_type": "code",
   "execution_count": 34,
   "id": "33b6bbfb",
   "metadata": {},
   "outputs": [
    {
     "ename": "SyntaxError",
     "evalue": "invalid syntax (861529822.py, line 4)",
     "output_type": "error",
     "traceback": [
      "\u001b[1;36m  Input \u001b[1;32mIn [34]\u001b[1;36m\u001b[0m\n\u001b[1;33m    print('\\n'commnd)\u001b[0m\n\u001b[1;37m              ^\u001b[0m\n\u001b[1;31mSyntaxError\u001b[0m\u001b[1;31m:\u001b[0m invalid syntax\n"
     ]
    }
   ],
   "source": [
    "langu = 'en'\n",
    "def run_alexa():\n",
    "    commnd = take_command()\n",
    "    print(commnd)\n",
    "    if 'play' in commnd:\n",
    "        song = commnd.replace('play', '')\n",
    "        say = 'playing ' + song\n",
    "        speka(say)\n",
    "        pywhatkit.playonyt(song)\n",
    "    elif 'time' in commnd:\n",
    "        time = datetime.datetime.now().strftime('%I:%M %p')\n",
    "        speka('Current time is ' + time)\n",
    "        print(time)\n",
    "    elif 'who is' in commnd:\n",
    "        person = commnd.replace('who is', '')\n",
    "        info = wikipedia.summary(person, 1)\n",
    "        print(info)\n",
    "        speka(info)\n",
    "    elif 'date' in commnd:\n",
    "        speka('sorry, I know You have a boyfriend')\n",
    "    elif 'are you single' in commnd:\n",
    "        speka('No,I am in a relationship with Chetan')\n",
    "    elif 'joke' in commnd:\n",
    "        jk = pyjokes.get_joke()\n",
    "        print(jk)\n",
    "        speka(jk)\n",
    "    elif 'lang' in commnd:\n",
    "        transl(langu)\n",
    "        langua = langu\n",
    "        print(langua)\n",
    "    else:\n",
    "        speka('Please say the command again.')\n",
    "\n",
    "\n",
    "\n",
    "        \n",
    "        \n",
    "        \n",
    "        \n",
    "        \n",
    "        \n",
    "        \n",
    "        \n",
    "        \n",
    "        \n",
    "        \n",
    "        \n",
    "        \n",
    "        \n",
    "        \n",
    "run_alexa()"
   ]
  },
  {
   "cell_type": "code",
   "execution_count": null,
   "id": "f1ccd5c5",
   "metadata": {},
   "outputs": [],
   "source": []
  },
  {
   "cell_type": "code",
   "execution_count": null,
   "id": "7a76e56c",
   "metadata": {},
   "outputs": [],
   "source": []
  },
  {
   "cell_type": "code",
   "execution_count": null,
   "id": "ce06335e",
   "metadata": {},
   "outputs": [],
   "source": []
  }
 ],
 "metadata": {
  "kernelspec": {
   "display_name": "Python 3 (ipykernel)",
   "language": "python",
   "name": "python3"
  },
  "language_info": {
   "codemirror_mode": {
    "name": "ipython",
    "version": 3
   },
   "file_extension": ".py",
   "mimetype": "text/x-python",
   "name": "python",
   "nbconvert_exporter": "python",
   "pygments_lexer": "ipython3",
   "version": "3.9.12"
  }
 },
 "nbformat": 4,
 "nbformat_minor": 5
}
