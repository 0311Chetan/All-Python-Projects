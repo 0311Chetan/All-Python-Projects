{
 "cells": [
  {
   "cell_type": "code",
   "execution_count": 3,
   "id": "a4a3503d",
   "metadata": {},
   "outputs": [
    {
     "name": "stdout",
     "output_type": "stream",
     "text": [
      "Speak 'hello' to initiate the Translation !\n",
      "~~~~~~~~~~~~~~~~~~~~~~~~~~~~~~~~~~~~~~~~~~~~\n",
      "Speak a stentence...\n",
      "Phase to be Translated :what are you doing\n"
     ]
    },
    {
     "ename": "AttributeError",
     "evalue": "'NoneType' object has no attribute 'group'",
     "output_type": "error",
     "traceback": [
      "\u001b[1;31m---------------------------------------------------------------------------\u001b[0m",
      "\u001b[1;31mAttributeError\u001b[0m                            Traceback (most recent call last)",
      "Input \u001b[1;32mIn [3]\u001b[0m, in \u001b[0;36m<cell line: 27>\u001b[1;34m()\u001b[0m\n\u001b[0;32m     58\u001b[0m \u001b[38;5;28mprint\u001b[39m(\u001b[38;5;124m\"\u001b[39m\u001b[38;5;124mPhase to be Translated :\u001b[39m\u001b[38;5;124m\"\u001b[39m\u001b[38;5;241m+\u001b[39m get_sentence)\n\u001b[0;32m     60\u001b[0m \u001b[38;5;66;03m# Using translate() method which requires\u001b[39;00m\n\u001b[0;32m     61\u001b[0m \u001b[38;5;66;03m# three arguments, 1st the sentence which\u001b[39;00m\n\u001b[0;32m     62\u001b[0m \u001b[38;5;66;03m# needs to be translated 2nd source language\u001b[39;00m\n\u001b[0;32m     63\u001b[0m \u001b[38;5;66;03m# and 3rd to which we need to translate in\u001b[39;00m\n\u001b[1;32m---> 64\u001b[0m text_to_translate \u001b[38;5;241m=\u001b[39m \u001b[43mtranslator\u001b[49m\u001b[38;5;241;43m.\u001b[39;49m\u001b[43mtranslate\u001b[49m\u001b[43m(\u001b[49m\u001b[43mget_sentence\u001b[49m\u001b[43m,\u001b[49m\n\u001b[0;32m     65\u001b[0m \u001b[43m\t\t\t\t\t\t\t\t\t\t\u001b[49m\u001b[43msrc\u001b[49m\u001b[38;5;241;43m=\u001b[39;49m\u001b[43m \u001b[49m\u001b[43mfrom_lang\u001b[49m\u001b[43m,\u001b[49m\n\u001b[0;32m     66\u001b[0m \u001b[43m\t\t\t\t\t\t\t\t\t\t\u001b[49m\u001b[43mdest\u001b[49m\u001b[38;5;241;43m=\u001b[39;49m\u001b[43m \u001b[49m\u001b[43mto_lang\u001b[49m\u001b[43m)\u001b[49m\n\u001b[0;32m     68\u001b[0m \u001b[38;5;66;03m# Storing the translated text in text\u001b[39;00m\n\u001b[0;32m     69\u001b[0m \u001b[38;5;66;03m# variable\u001b[39;00m\n\u001b[0;32m     70\u001b[0m text \u001b[38;5;241m=\u001b[39m text_to_translate\u001b[38;5;241m.\u001b[39mtext\n",
      "File \u001b[1;32mD:\\Anaconda\\lib\\site-packages\\googletrans\\client.py:182\u001b[0m, in \u001b[0;36mTranslator.translate\u001b[1;34m(self, text, dest, src, **kwargs)\u001b[0m\n\u001b[0;32m    179\u001b[0m     \u001b[38;5;28;01mreturn\u001b[39;00m result\n\u001b[0;32m    181\u001b[0m origin \u001b[38;5;241m=\u001b[39m text\n\u001b[1;32m--> 182\u001b[0m data \u001b[38;5;241m=\u001b[39m \u001b[38;5;28;43mself\u001b[39;49m\u001b[38;5;241;43m.\u001b[39;49m\u001b[43m_translate\u001b[49m\u001b[43m(\u001b[49m\u001b[43mtext\u001b[49m\u001b[43m,\u001b[49m\u001b[43m \u001b[49m\u001b[43mdest\u001b[49m\u001b[43m,\u001b[49m\u001b[43m \u001b[49m\u001b[43msrc\u001b[49m\u001b[43m,\u001b[49m\u001b[43m \u001b[49m\u001b[43mkwargs\u001b[49m\u001b[43m)\u001b[49m\n\u001b[0;32m    184\u001b[0m \u001b[38;5;66;03m# this code will be updated when the format is changed.\u001b[39;00m\n\u001b[0;32m    185\u001b[0m translated \u001b[38;5;241m=\u001b[39m \u001b[38;5;124m'\u001b[39m\u001b[38;5;124m'\u001b[39m\u001b[38;5;241m.\u001b[39mjoin([d[\u001b[38;5;241m0\u001b[39m] \u001b[38;5;28;01mif\u001b[39;00m d[\u001b[38;5;241m0\u001b[39m] \u001b[38;5;28;01melse\u001b[39;00m \u001b[38;5;124m'\u001b[39m\u001b[38;5;124m'\u001b[39m \u001b[38;5;28;01mfor\u001b[39;00m d \u001b[38;5;129;01min\u001b[39;00m data[\u001b[38;5;241m0\u001b[39m]])\n",
      "File \u001b[1;32mD:\\Anaconda\\lib\\site-packages\\googletrans\\client.py:78\u001b[0m, in \u001b[0;36mTranslator._translate\u001b[1;34m(self, text, dest, src, override)\u001b[0m\n\u001b[0;32m     77\u001b[0m \u001b[38;5;28;01mdef\u001b[39;00m \u001b[38;5;21m_translate\u001b[39m(\u001b[38;5;28mself\u001b[39m, text, dest, src, override):\n\u001b[1;32m---> 78\u001b[0m     token \u001b[38;5;241m=\u001b[39m \u001b[38;5;28;43mself\u001b[39;49m\u001b[38;5;241;43m.\u001b[39;49m\u001b[43mtoken_acquirer\u001b[49m\u001b[38;5;241;43m.\u001b[39;49m\u001b[43mdo\u001b[49m\u001b[43m(\u001b[49m\u001b[43mtext\u001b[49m\u001b[43m)\u001b[49m\n\u001b[0;32m     79\u001b[0m     params \u001b[38;5;241m=\u001b[39m utils\u001b[38;5;241m.\u001b[39mbuild_params(query\u001b[38;5;241m=\u001b[39mtext, src\u001b[38;5;241m=\u001b[39msrc, dest\u001b[38;5;241m=\u001b[39mdest,\n\u001b[0;32m     80\u001b[0m                                 token\u001b[38;5;241m=\u001b[39mtoken, override\u001b[38;5;241m=\u001b[39moverride)\n\u001b[0;32m     82\u001b[0m     url \u001b[38;5;241m=\u001b[39m urls\u001b[38;5;241m.\u001b[39mTRANSLATE\u001b[38;5;241m.\u001b[39mformat(host\u001b[38;5;241m=\u001b[39m\u001b[38;5;28mself\u001b[39m\u001b[38;5;241m.\u001b[39m_pick_service_url())\n",
      "File \u001b[1;32mD:\\Anaconda\\lib\\site-packages\\googletrans\\gtoken.py:194\u001b[0m, in \u001b[0;36mTokenAcquirer.do\u001b[1;34m(self, text)\u001b[0m\n\u001b[0;32m    193\u001b[0m \u001b[38;5;28;01mdef\u001b[39;00m \u001b[38;5;21mdo\u001b[39m(\u001b[38;5;28mself\u001b[39m, text):\n\u001b[1;32m--> 194\u001b[0m     \u001b[38;5;28;43mself\u001b[39;49m\u001b[38;5;241;43m.\u001b[39;49m\u001b[43m_update\u001b[49m\u001b[43m(\u001b[49m\u001b[43m)\u001b[49m\n\u001b[0;32m    195\u001b[0m     tk \u001b[38;5;241m=\u001b[39m \u001b[38;5;28mself\u001b[39m\u001b[38;5;241m.\u001b[39macquire(text)\n\u001b[0;32m    196\u001b[0m     \u001b[38;5;28;01mreturn\u001b[39;00m tk\n",
      "File \u001b[1;32mD:\\Anaconda\\lib\\site-packages\\googletrans\\gtoken.py:62\u001b[0m, in \u001b[0;36mTokenAcquirer._update\u001b[1;34m(self)\u001b[0m\n\u001b[0;32m     59\u001b[0m     \u001b[38;5;28;01mreturn\u001b[39;00m\n\u001b[0;32m     61\u001b[0m \u001b[38;5;66;03m# this will be the same as python code after stripping out a reserved word 'var'\u001b[39;00m\n\u001b[1;32m---> 62\u001b[0m code \u001b[38;5;241m=\u001b[39m \u001b[38;5;28;43mself\u001b[39;49m\u001b[38;5;241;43m.\u001b[39;49m\u001b[43mRE_TKK\u001b[49m\u001b[38;5;241;43m.\u001b[39;49m\u001b[43msearch\u001b[49m\u001b[43m(\u001b[49m\u001b[43mr\u001b[49m\u001b[38;5;241;43m.\u001b[39;49m\u001b[43mtext\u001b[49m\u001b[43m)\u001b[49m\u001b[38;5;241;43m.\u001b[39;49m\u001b[43mgroup\u001b[49m(\u001b[38;5;241m1\u001b[39m)\u001b[38;5;241m.\u001b[39mreplace(\u001b[38;5;124m'\u001b[39m\u001b[38;5;124mvar \u001b[39m\u001b[38;5;124m'\u001b[39m, \u001b[38;5;124m'\u001b[39m\u001b[38;5;124m'\u001b[39m)\n\u001b[0;32m     63\u001b[0m \u001b[38;5;66;03m# unescape special ascii characters such like a \\x3d(=)\u001b[39;00m\n\u001b[0;32m     64\u001b[0m code \u001b[38;5;241m=\u001b[39m code\u001b[38;5;241m.\u001b[39mencode()\u001b[38;5;241m.\u001b[39mdecode(\u001b[38;5;124m'\u001b[39m\u001b[38;5;124municode-escape\u001b[39m\u001b[38;5;124m'\u001b[39m)\n",
      "\u001b[1;31mAttributeError\u001b[0m: 'NoneType' object has no attribute 'group'"
     ]
    }
   ],
   "source": [
    "# Importing necessary modules required\n",
    "import speech_recognition as spr\n",
    "from googletrans import Translator\n",
    "from gtts import gTTS\n",
    "import os\n",
    "\n",
    "\n",
    "# Creating Recogniser() class object\n",
    "recog1 = spr.Recognizer()\n",
    "\n",
    "# Creating microphone instance\n",
    "mc = spr.Microphone()\n",
    "\n",
    "\n",
    "# Capture Voice\n",
    "with mc as source:\n",
    "\tprint(\"Speak 'hello' to initiate the Translation !\")\n",
    "\tprint(\"~~~~~~~~~~~~~~~~~~~~~~~~~~~~~~~~~~~~~~~~~~~~\")\n",
    "\trecog1.adjust_for_ambient_noise(source, duration=0.2)\n",
    "\taudio = recog1.listen(source)\n",
    "\tMyText = recog1.recognize_google(audio)\n",
    "\tMyText = MyText.lower()\n",
    "\n",
    "# Here initialising the recorder with\n",
    "# hello, whatever after that hello it\n",
    "# will recognise it.\n",
    "if 'hello' in MyText:\n",
    "\t\n",
    "\t# Translator method for translation\n",
    "\ttranslator = Translator()\n",
    "\t\n",
    "\t# short form of english in which\n",
    "\t# you will speak\n",
    "\tfrom_lang = 'en'\n",
    "\t\n",
    "\t# In which we want to convert, short\n",
    "\t# form of hindi\n",
    "\tto_lang = 'hi'\n",
    "\t\n",
    "\twith mc as source:\n",
    "\t\t\n",
    "\t\tprint(\"Speak a stentence...\")\n",
    "\t\trecog1.adjust_for_ambient_noise(source, duration=0.2)\n",
    "\t\t\n",
    "\t\t# Storing the speech into audio variable\n",
    "\t\taudio = recog1.listen(source)\n",
    "\t\t\n",
    "\t\t# Using recognize.google() method to\n",
    "\t\t# convert audio into text\n",
    "\t\tget_sentence = recog1.recognize_google(audio)\n",
    "\n",
    "\t\t# Using try and except block to improve\n",
    "\t\t# its efficiency.\n",
    "\t\ttry:\n",
    "\t\t\t\n",
    "\t\t\t# Printing Speech which need to\n",
    "\t\t\t# be translated.\n",
    "\t\t\tprint(\"Phase to be Translated :\"+ get_sentence)\n",
    "\n",
    "\t\t\t# Using translate() method which requires\n",
    "\t\t\t# three arguments, 1st the sentence which\n",
    "\t\t\t# needs to be translated 2nd source language\n",
    "\t\t\t# and 3rd to which we need to translate in\n",
    "\t\t\ttext_to_translate = translator.translate(get_sentence,\n",
    "\t\t\t\t\t\t\t\t\t\t\t\t\tsrc= from_lang,\n",
    "\t\t\t\t\t\t\t\t\t\t\t\t\tdest= to_lang)\n",
    "\t\t\t\n",
    "\t\t\t# Storing the translated text in text\n",
    "\t\t\t# variable\n",
    "\t\t\ttext = text_to_translate.text\n",
    "\n",
    "\t\t\t# Using Google-Text-to-Speech ie, gTTS() method\n",
    "\t\t\t# to speak the translated text into the\n",
    "\t\t\t# destination language which is stored in to_lang.\n",
    "\t\t\t# Also, we have given 3rd argument as False because\n",
    "\t\t\t# by default it speaks very slowly\n",
    "\t\t\tspeak = gTTS(text=text, lang=to_lang, slow= False)\n",
    "\n",
    "\t\t\t# Using save() method to save the translated\n",
    "\t\t\t# speech in capture_voice.mp3\n",
    "\t\t\tspeak.save(\"captured_voice.mp3\")\t\n",
    "\t\t\t\n",
    "\t\t\t# Using OS module to run the translated voice.\n",
    "\t\t\tos.system(\"start captured_voice.mp3\")\n",
    "\n",
    "\t\t# Here we are using except block for UnknownValue\n",
    "\t\t# and Request Error and printing the same to\n",
    "\t\t# provide better service to the user.\n",
    "\t\texcept spr.UnknownValueError:\n",
    "\t\t\tprint(\"Unable to Understand the Input\")\n",
    "\t\t\t\n",
    "\t\texcept spr.RequestError as e:\n",
    "\t\t\tprint(\"Unable to provide Required Output\".format(e))\n"
   ]
  },
  {
   "cell_type": "code",
   "execution_count": 4,
   "id": "c2fb2392",
   "metadata": {},
   "outputs": [
    {
     "name": "stdout",
     "output_type": "stream",
     "text": [
      "Collecting google_trans_new\n",
      "  Downloading google_trans_new-1.1.9-py3-none-any.whl (9.2 kB)\n",
      "Installing collected packages: google-trans-new\n",
      "Successfully installed google-trans-new-1.1.9\n",
      "Note: you may need to restart the kernel to use updated packages.\n"
     ]
    }
   ],
   "source": [
    "pip install google_trans_new"
   ]
  },
  {
   "cell_type": "code",
   "execution_count": 2,
   "id": "ef58b988",
   "metadata": {},
   "outputs": [
    {
     "ename": "google_new_transError",
     "evalue": "404 (Not Found) from TTS API. Probable cause: Unknown",
     "output_type": "error",
     "traceback": [
      "\u001b[1;31m---------------------------------------------------------------------------\u001b[0m",
      "\u001b[1;31mHTTPError\u001b[0m                                 Traceback (most recent call last)",
      "File \u001b[1;32mD:\\Anaconda\\lib\\site-packages\\google_trans_new\\google_trans_new.py:189\u001b[0m, in \u001b[0;36mgoogle_translator.translate\u001b[1;34m(self, text, lang_tgt, lang_src, pronounce)\u001b[0m\n\u001b[0;32m    188\u001b[0m                 \u001b[38;5;28;01mraise\u001b[39;00m e\n\u001b[1;32m--> 189\u001b[0m     \u001b[43mr\u001b[49m\u001b[38;5;241;43m.\u001b[39;49m\u001b[43mraise_for_status\u001b[49m\u001b[43m(\u001b[49m\u001b[43m)\u001b[49m\n\u001b[0;32m    190\u001b[0m \u001b[38;5;28;01mexcept\u001b[39;00m requests\u001b[38;5;241m.\u001b[39mexceptions\u001b[38;5;241m.\u001b[39mConnectTimeout \u001b[38;5;28;01mas\u001b[39;00m e:\n",
      "File \u001b[1;32mD:\\Anaconda\\lib\\site-packages\\requests\\models.py:960\u001b[0m, in \u001b[0;36mResponse.raise_for_status\u001b[1;34m(self)\u001b[0m\n\u001b[0;32m    959\u001b[0m \u001b[38;5;28;01mif\u001b[39;00m http_error_msg:\n\u001b[1;32m--> 960\u001b[0m     \u001b[38;5;28;01mraise\u001b[39;00m HTTPError(http_error_msg, response\u001b[38;5;241m=\u001b[39m\u001b[38;5;28mself\u001b[39m)\n",
      "\u001b[1;31mHTTPError\u001b[0m: 404 Client Error: Not Found for url: https://translate.google.cn/_/TranslateWebserverUi/data/batchexecute",
      "\nDuring handling of the above exception, another exception occurred:\n",
      "\u001b[1;31mgoogle_new_transError\u001b[0m                     Traceback (most recent call last)",
      "Input \u001b[1;32mIn [2]\u001b[0m, in \u001b[0;36m<cell line: 4>\u001b[1;34m()\u001b[0m\n\u001b[0;32m      1\u001b[0m \u001b[38;5;28;01mfrom\u001b[39;00m \u001b[38;5;21;01mgoogle_trans_new\u001b[39;00m \u001b[38;5;28;01mimport\u001b[39;00m google_translator  \n\u001b[0;32m      3\u001b[0m translator \u001b[38;5;241m=\u001b[39m google_translator()  \n\u001b[1;32m----> 4\u001b[0m translate_text \u001b[38;5;241m=\u001b[39m \u001b[43mtranslator\u001b[49m\u001b[38;5;241;43m.\u001b[39;49m\u001b[43mtranslate\u001b[49m\u001b[43m(\u001b[49m\u001b[38;5;124;43m'\u001b[39;49m\u001b[38;5;124;43mHola mundo!\u001b[39;49m\u001b[38;5;124;43m'\u001b[39;49m\u001b[43m,\u001b[49m\u001b[43m \u001b[49m\u001b[43mlang_src\u001b[49m\u001b[38;5;241;43m=\u001b[39;49m\u001b[38;5;124;43m'\u001b[39;49m\u001b[38;5;124;43mes\u001b[39;49m\u001b[38;5;124;43m'\u001b[39;49m\u001b[43m,\u001b[49m\u001b[43m \u001b[49m\u001b[43mlang_tgt\u001b[49m\u001b[38;5;241;43m=\u001b[39;49m\u001b[38;5;124;43m'\u001b[39;49m\u001b[38;5;124;43men\u001b[39;49m\u001b[38;5;124;43m'\u001b[39;49m\u001b[43m)\u001b[49m  \n\u001b[0;32m      5\u001b[0m \u001b[38;5;28mprint\u001b[39m(translate_text)\n",
      "File \u001b[1;32mD:\\Anaconda\\lib\\site-packages\\google_trans_new\\google_trans_new.py:194\u001b[0m, in \u001b[0;36mgoogle_translator.translate\u001b[1;34m(self, text, lang_tgt, lang_src, pronounce)\u001b[0m\n\u001b[0;32m    191\u001b[0m     \u001b[38;5;28;01mraise\u001b[39;00m e\n\u001b[0;32m    192\u001b[0m \u001b[38;5;28;01mexcept\u001b[39;00m requests\u001b[38;5;241m.\u001b[39mexceptions\u001b[38;5;241m.\u001b[39mHTTPError \u001b[38;5;28;01mas\u001b[39;00m e:\n\u001b[0;32m    193\u001b[0m     \u001b[38;5;66;03m# Request successful, bad response\u001b[39;00m\n\u001b[1;32m--> 194\u001b[0m     \u001b[38;5;28;01mraise\u001b[39;00m google_new_transError(tts\u001b[38;5;241m=\u001b[39m\u001b[38;5;28mself\u001b[39m, response\u001b[38;5;241m=\u001b[39mr)\n\u001b[0;32m    195\u001b[0m \u001b[38;5;28;01mexcept\u001b[39;00m requests\u001b[38;5;241m.\u001b[39mexceptions\u001b[38;5;241m.\u001b[39mRequestException \u001b[38;5;28;01mas\u001b[39;00m e:\n\u001b[0;32m    196\u001b[0m     \u001b[38;5;66;03m# Request failed\u001b[39;00m\n\u001b[0;32m    197\u001b[0m     \u001b[38;5;28;01mraise\u001b[39;00m google_new_transError(tts\u001b[38;5;241m=\u001b[39m\u001b[38;5;28mself\u001b[39m)\n",
      "\u001b[1;31mgoogle_new_transError\u001b[0m: 404 (Not Found) from TTS API. Probable cause: Unknown"
     ]
    }
   ],
   "source": [
    "from google_trans_new import google_translator  \n",
    "  \n",
    "translator = google_translator()  \n",
    "translate_text = translator.translate('Hola mundo!', lang_src='es', lang_tgt='en')  \n",
    "print(translate_text)\n",
    "# -> Hello world!"
   ]
  },
  {
   "cell_type": "code",
   "execution_count": 89,
   "id": "98423d49",
   "metadata": {},
   "outputs": [
    {
     "name": "stdout",
     "output_type": "stream",
     "text": [
      "Requirement already satisfied: googletrans==3.1.0a0 in d:\\anaconda\\lib\\site-packages (3.1.0a0)\n",
      "Requirement already satisfied: httpx==0.13.3 in d:\\anaconda\\lib\\site-packages (from googletrans==3.1.0a0) (0.13.3)\n",
      "Requirement already satisfied: idna==2.* in d:\\anaconda\\lib\\site-packages (from httpx==0.13.3->googletrans==3.1.0a0) (2.10)\n",
      "Requirement already satisfied: hstspreload in d:\\anaconda\\lib\\site-packages (from httpx==0.13.3->googletrans==3.1.0a0) (2022.10.1)\n",
      "Requirement already satisfied: chardet==3.* in d:\\anaconda\\lib\\site-packages (from httpx==0.13.3->googletrans==3.1.0a0) (3.0.4)\n",
      "Requirement already satisfied: certifi in d:\\anaconda\\lib\\site-packages (from httpx==0.13.3->googletrans==3.1.0a0) (2021.10.8)\n",
      "Requirement already satisfied: rfc3986<2,>=1.3 in d:\\anaconda\\lib\\site-packages (from httpx==0.13.3->googletrans==3.1.0a0) (1.5.0)\n",
      "Requirement already satisfied: httpcore==0.9.* in d:\\anaconda\\lib\\site-packages (from httpx==0.13.3->googletrans==3.1.0a0) (0.9.1)\n",
      "Requirement already satisfied: sniffio in d:\\anaconda\\lib\\site-packages (from httpx==0.13.3->googletrans==3.1.0a0) (1.2.0)\n",
      "Requirement already satisfied: h2==3.* in d:\\anaconda\\lib\\site-packages (from httpcore==0.9.*->httpx==0.13.3->googletrans==3.1.0a0) (3.2.0)\n",
      "Requirement already satisfied: h11<0.10,>=0.8 in d:\\anaconda\\lib\\site-packages (from httpcore==0.9.*->httpx==0.13.3->googletrans==3.1.0a0) (0.9.0)\n",
      "Requirement already satisfied: hyperframe<6,>=5.2.0 in d:\\anaconda\\lib\\site-packages (from h2==3.*->httpcore==0.9.*->httpx==0.13.3->googletrans==3.1.0a0) (5.2.0)\n",
      "Requirement already satisfied: hpack<4,>=3.0 in d:\\anaconda\\lib\\site-packages (from h2==3.*->httpcore==0.9.*->httpx==0.13.3->googletrans==3.1.0a0) (3.0.0)\n",
      "Note: you may need to restart the kernel to use updated packages.\n"
     ]
    }
   ],
   "source": [
    "pip install googletrans==3.1.0a0"
   ]
  },
  {
   "cell_type": "code",
   "execution_count": 4,
   "id": "f62c34d9",
   "metadata": {},
   "outputs": [
    {
     "name": "stdout",
     "output_type": "stream",
     "text": [
      "The sky is blue and I like bananas\n"
     ]
    }
   ],
   "source": [
    "from googletrans import Translator\n",
    "translator = Translator()\n",
    "translation = translator.translate(\"Der Himmel ist blau und ich mag Bananen\", dest='en')\n",
    "print(translation.text)"
   ]
  },
  {
   "cell_type": "code",
   "execution_count": 2,
   "id": "6c55a9f9",
   "metadata": {},
   "outputs": [],
   "source": [
    "from googletrans import Translator\n",
    "from playsound import playsound\n",
    "import speech_recognition as sr\n",
    "from googletrans import Translator\n",
    "from gtts import gTTS\n",
    "import pyttsx3\n",
    "import os\n",
    "flag = 0\n",
    "\n",
    "engine = pyttsx3.init()"
   ]
  },
  {
   "cell_type": "code",
   "execution_count": 7,
   "id": "42690a1f",
   "metadata": {},
   "outputs": [],
   "source": [
    "dic = ('english', 'en','hindi','hi','kannada', 'kn','konkani','gom')"
   ]
  },
  {
   "cell_type": "code",
   "execution_count": 7,
   "id": "c9888da4",
   "metadata": {},
   "outputs": [
    {
     "name": "stdout",
     "output_type": "stream",
     "text": [
      "listening.....\n",
      "Recognizing.....\n",
      "The User said internet bad version\n",
      "\n"
     ]
    },
    {
     "data": {
      "text/plain": [
       "'internet bad version'"
      ]
     },
     "execution_count": 7,
     "metadata": {},
     "output_type": "execute_result"
    }
   ],
   "source": [
    "def takecommand():  \n",
    "    r = sr.Recognizer()\n",
    "    with sr.Microphone() as source:\n",
    "        print(\"listening.....\")\n",
    "        r.pause_threshold = 1\n",
    "        audio = r.listen(source)\n",
    "  \n",
    "    try:\n",
    "        print(\"Recognizing.....\")\n",
    "        query = r.recognize_google(audio, language='en-in')\n",
    "        print(f\"The User said {query}\\n\")\n",
    "        engine.say(query)\n",
    "        engine.runAndWait()\n",
    "    except Exception as e:\n",
    "        print(\"say that again please.....\")\n",
    "        return \"None\"\n",
    "    return query\n",
    "\n",
    "takecommand()"
   ]
  },
  {
   "cell_type": "code",
   "execution_count": 20,
   "id": "dd50377d",
   "metadata": {},
   "outputs": [
    {
     "name": "stdout",
     "output_type": "stream",
     "text": [
      "listening.....\n",
      "Recognizing.....\n",
      "The User said Hindi\n",
      "\n"
     ]
    },
    {
     "data": {
      "text/plain": [
       "'Hindi'"
      ]
     },
     "execution_count": 20,
     "metadata": {},
     "output_type": "execute_result"
    }
   ],
   "source": [
    "def translang():  \n",
    "    r = sr.Recognizer()\n",
    "    with sr.Microphone() as source:\n",
    "        print(\"listening.....\")\n",
    "        r.pause_threshold = 1\n",
    "        audio = r.listen(source)\n",
    "  \n",
    "    try:\n",
    "        print(\"Recognizing.....\")\n",
    "        query = r.recognize_google(audio, language='en-in')\n",
    "        print(f\"The User said {query}\\n\")\n",
    "        engine.say(f\"You have selected {query} language\")\n",
    "        engine.runAndWait()\n",
    "    except Exception as e:\n",
    "        print(\"say that again please.....\")\n",
    "        return \"None\"\n",
    "    return query\n",
    "\n",
    "translang()"
   ]
  },
  {
   "cell_type": "code",
   "execution_count": 16,
   "id": "ecf6c015",
   "metadata": {},
   "outputs": [
    {
     "name": "stdout",
     "output_type": "stream",
     "text": [
      "listening.....\n",
      "Recognizing.....\n",
      "The User said hello what are you doing\n",
      "\n"
     ]
    }
   ],
   "source": [
    "query = takecommand()\n",
    "while (query == \"None\"):\n",
    "    query = takecommand()"
   ]
  },
  {
   "cell_type": "code",
   "execution_count": 21,
   "id": "6ab1fa58",
   "metadata": {},
   "outputs": [
    {
     "name": "stdout",
     "output_type": "stream",
     "text": [
      "Enter the language in which you want to convert : Ex. Hindi , English , etc.\n",
      "\n",
      "listening.....\n",
      "Recognizing.....\n",
      "The User said Hindi\n",
      "\n"
     ]
    }
   ],
   "source": [
    "def destination_language():\n",
    "    textt=\"Enter the language in which you want to convert : Ex. Hindi , English , etc.\"\n",
    "    print(textt)\n",
    "    engine.say(textt)\n",
    "    engine.runAndWait()\n",
    "    print()\n",
    "      \n",
    "    to_lang = translang()\n",
    "    while (to_lang == \"None\"):\n",
    "        to_lang = translang()\n",
    "    to_lang = to_lang.lower()\n",
    "    return to_lang\n",
    "  \n",
    "to_lang = destination_language()"
   ]
  },
  {
   "cell_type": "code",
   "execution_count": 22,
   "id": "5857c99c",
   "metadata": {},
   "outputs": [],
   "source": [
    "while (to_lang not in dic):\n",
    "    print(\"Language in which you are trying\\\n",
    "    to convert is currently not available ,\\\n",
    "    please input some other language\")\n",
    "    print()\n",
    "    to_lang = destination_language()\n",
    "  \n",
    "to_lang = dic[dic.index(to_lang)+1]"
   ]
  },
  {
   "cell_type": "code",
   "execution_count": 23,
   "id": "e8361555",
   "metadata": {},
   "outputs": [],
   "source": [
    "translator = Translator()\n",
    "\n",
    "text_to_translate = translator.translate(query, dest=to_lang)\n",
    "  \n",
    "text = text_to_translate.text"
   ]
  },
  {
   "cell_type": "code",
   "execution_count": 24,
   "id": "c206ce34",
   "metadata": {},
   "outputs": [],
   "source": [
    "speak = gTTS(text=text, lang=to_lang, slow=False)"
   ]
  },
  {
   "cell_type": "code",
   "execution_count": null,
   "id": "f3243c90",
   "metadata": {},
   "outputs": [],
   "source": []
  },
  {
   "cell_type": "code",
   "execution_count": null,
   "id": "bb720dd3",
   "metadata": {},
   "outputs": [],
   "source": []
  },
  {
   "cell_type": "code",
   "execution_count": 26,
   "id": "3ce44f15",
   "metadata": {},
   "outputs": [],
   "source": [
    "from googletrans import Translator\n",
    "from playsound import playsound\n",
    "import speech_recognition as sr\n",
    "from googletrans import Translator\n",
    "from gtts import gTTS\n",
    "import pyttsx3\n",
    "import os\n",
    "flag = 0\n",
    "\n",
    "engine = pyttsx3.init()\n",
    "dic = ('english', 'en','hindi','hi','kannada', 'kn','konkani','gom')"
   ]
  },
  {
   "cell_type": "code",
   "execution_count": 27,
   "id": "f80c3110",
   "metadata": {},
   "outputs": [
    {
     "name": "stdout",
     "output_type": "stream",
     "text": [
      "listening.....\n",
      "Recognizing.....\n",
      "The User said what's your name\n",
      "\n",
      "Enter the language in which you want to convert : Ex. Hindi , English , etc.\n",
      "\n",
      "listening.....\n",
      "Recognizing.....\n",
      "say that again please.....\n",
      "listening.....\n",
      "Recognizing.....\n",
      "The User said Hindi\n",
      "\n"
     ]
    }
   ],
   "source": [
    "def takecommand():  \n",
    "    r = sr.Recognizer()\n",
    "    with sr.Microphone() as source:\n",
    "        print(\"listening.....\")\n",
    "        r.pause_threshold = 1\n",
    "        audio = r.listen(source)\n",
    "  \n",
    "    try:\n",
    "        print(\"Recognizing.....\")\n",
    "        query = r.recognize_google(audio, language='en-in')\n",
    "        print(f\"The User said {query}\\n\")\n",
    "        engine.say(query)\n",
    "        engine.runAndWait()\n",
    "    except Exception as e:\n",
    "        print(\"say that again please.....\")\n",
    "        return \"None\"\n",
    "    return query\n",
    "\n",
    "def translang():  \n",
    "    r = sr.Recognizer()\n",
    "    with sr.Microphone() as source:\n",
    "        print(\"listening.....\")\n",
    "        r.pause_threshold = 1\n",
    "        audio = r.listen(source)\n",
    "  \n",
    "    try:\n",
    "        print(\"Recognizing.....\")\n",
    "        query = r.recognize_google(audio, language='en-in')\n",
    "        print(f\"The User said {query}\\n\")\n",
    "        engine.say(f\"You have selected {query} language\")\n",
    "        engine.runAndWait()\n",
    "    except Exception as e:\n",
    "        print(\"say that again please.....\")\n",
    "        return \"None\"\n",
    "    return query\n",
    "\n",
    "query = takecommand()\n",
    "while (query == \"None\"):\n",
    "    query = takecommand()\n",
    "    \n",
    "    \n",
    "def destination_language():\n",
    "    textt=\"Enter the language in which you want to convert : Ex. Hindi , English , etc.\"\n",
    "    print(textt)\n",
    "    engine.say(textt)\n",
    "    engine.runAndWait()\n",
    "    print()\n",
    "      \n",
    "    to_lang = translang()\n",
    "    while (to_lang == \"None\"):\n",
    "        to_lang = translang()\n",
    "    to_lang = to_lang.lower()\n",
    "    return to_lang\n",
    "\n",
    "    \n",
    "to_lang = destination_language()\n",
    "\n",
    "while (to_lang not in dic):\n",
    "    print(\"Language in which you are trying\\\n",
    "    to convert is currently not available ,\\\n",
    "    please input some other language\")\n",
    "    print()\n",
    "    to_lang = destination_language()\n",
    "  \n",
    "to_lang = dic[dic.index(to_lang)+1]\n",
    "\n",
    "translator = Translator()\n",
    "\n",
    "text_to_translate = translator.translate(query, dest=to_lang)\n",
    "  \n",
    "text = text_to_translate.text\n",
    "\n",
    "engine.say(text)\n",
    "engine.runAndWait()"
   ]
  },
  {
   "cell_type": "code",
   "execution_count": 10,
   "id": "4cce10f1",
   "metadata": {},
   "outputs": [
    {
     "name": "stdout",
     "output_type": "stream",
     "text": [
      "listening.....\n",
      "Recognizing.....\n",
      "The User said आई डोंट नो\n",
      "\n",
      "मै आप के लिये क्य कर सक्त हु\n"
     ]
    }
   ],
   "source": [
    "from googletrans import Translator\n",
    "import speech_recognition as sr\n",
    "import pyttsx3\n",
    "from gtts import gTTS\n",
    "from playsound import playsound\n",
    "import os\n",
    "\n",
    "engine = pyttsx3.init()\n",
    "\n",
    "\n",
    "r = sr.Recognizer()\n",
    "with sr.Microphone() as source:\n",
    "    print(\"listening.....\")\n",
    "    r.pause_threshold = 1\n",
    "    audio = r.listen(source)\n",
    "  \n",
    "try:\n",
    "    print(\"Recognizing.....\")\n",
    "    query = r.recognize_google(audio, language='hi')\n",
    "    print(f\"The User said {query}\\n\")\n",
    "    engine.say(query)\n",
    "    engine.runAndWait()\n",
    "except Exception as e:\n",
    "    print(\"say that again please.....\")\n",
    "    \n",
    "\n",
    "\n",
    "\n",
    "\n",
    "translator = Translator()\n",
    "translation = translator.translate('What can I do for you', dest='hi')\n",
    "\n",
    "abc = translation.text\n",
    "engine.say(abc)\n",
    "engine.runAndWait()\n",
    "print(translation.text)\n",
    "speak = gTTS(text=abc, lang='hi', slow=False)\n",
    "  \n",
    "speak.save(\"captured_voice.mp3\")\n",
    "  \n",
    "# Using OS module to run the translated voice.\n",
    "playsound(\"captured_voice.mp3\")\n",
    "os.remove('captured_voice.mp3')"
   ]
  },
  {
   "cell_type": "code",
   "execution_count": 67,
   "id": "3b3d80a6",
   "metadata": {},
   "outputs": [
    {
     "name": "stdout",
     "output_type": "stream",
     "text": [
      "Collecting python-vlc\n",
      "  Downloading python_vlc-3.0.16120-py3-none-any.whl (79 kB)\n",
      "Installing collected packages: python-vlc\n",
      "Successfully installed python-vlc-3.0.16120\n",
      "Note: you may need to restart the kernel to use updated packages.\n"
     ]
    }
   ],
   "source": [
    "pip install python-vlc"
   ]
  },
  {
   "cell_type": "code",
   "execution_count": 14,
   "id": "133e092d",
   "metadata": {},
   "outputs": [
    {
     "data": {
      "text/plain": [
       "0"
      ]
     },
     "execution_count": 14,
     "metadata": {},
     "output_type": "execute_result"
    }
   ],
   "source": [
    "import vlc\n",
    "media = vlc.MediaPlayer('captured_voice.mp3')\n",
    "media.play()"
   ]
  },
  {
   "cell_type": "code",
   "execution_count": 2,
   "id": "1c936037",
   "metadata": {},
   "outputs": [
    {
     "data": {
      "text/html": [
       "\n",
       "                <audio  controls=\"controls\" autoplay=\"autoplay\">\n",
       "                    <source src=\"data:audio/mpeg;base64,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\" type=\"audio/mpeg\" />\n",
       "                    Your browser does not support the audio element.\n",
       "                </audio>\n",
       "              "
      ],
      "text/plain": [
       "<IPython.lib.display.Audio object>"
      ]
     },
     "execution_count": 2,
     "metadata": {},
     "output_type": "execute_result"
    }
   ],
   "source": []
  },
  {
   "cell_type": "code",
   "execution_count": 88,
   "id": "bb10213f",
   "metadata": {},
   "outputs": [
    {
     "name": "stdout",
     "output_type": "stream",
     "text": [
      "listening...\n",
      "change the language\n",
      "en\n",
      "listening.....\n",
      "Recognizing.....\n",
      "you have selected the Hindi language for your Alexa\n",
      "\n",
      "en\n",
      "listening...\n",
      "who is elon musk\n",
      "Elon Musk has expressed many views on a wide variety of subjects, ranging from politics to science.\n",
      "en\n"
     ]
    }
   ],
   "source": [
    "from googletrans import Translator\n",
    "import speech_recognition as sr\n",
    "from playsound import playsound\n",
    "from gtts import gTTS\n",
    "import pywhatkit\n",
    "import datetime\n",
    "import pyttsx3\n",
    "import wikipedia\n",
    "import pyjokes\n",
    "import os\n",
    "\n",
    "\n",
    "\n",
    "engine = pyttsx3.init()\n",
    "translator = Translator()\n",
    "\n",
    "\n",
    "voices = engine.getProperty('voices')\n",
    "engine.setProperty('voice', voices[1].id)\n",
    "engine.setProperty('rate',160)\n",
    "engine.setProperty('volume',1)\n",
    "\n",
    "langu = 'en'\n",
    "\n",
    "def language():\n",
    "    talk('Select the language for Your Alexa...')\n",
    "    try:\n",
    "        r = sr.Recognizer()\n",
    "        with sr.Microphone() as source:\n",
    "            print(\"listening.....\")\n",
    "            r.pause_threshold = 1\n",
    "            audio = r.listen(source)\n",
    "            \n",
    "        print(\"Recognizing.....\")\n",
    "        comm = r.recognize_google(audio, language='en-in')\n",
    "        abc = f\"you have selected the {comm} language for your Alexa\\n\"\n",
    "        print(abc)\n",
    "        talk(abc)\n",
    "        \n",
    "        \n",
    "    except Exception as e:\n",
    "        pass\n",
    "    \n",
    "    return comm\n",
    "\n",
    "def speka():\n",
    "    playsound(\"captured_voice.mp3\")\n",
    "    os.remove('captured_voice.mp3')\n",
    "    return\n",
    "        \n",
    "def talk(text,lang=langu):\n",
    "    print(langu)\n",
    "    tr = translator.translate(text,dest=lang)\n",
    "    speak = gTTS(text=tr.text, lang=lang, slow=False)\n",
    "    speak.save(\"captured_voice.mp3\")\n",
    "    speka()\n",
    "    \n",
    "\n",
    "\n",
    "def transl():\n",
    "    comm = language()\n",
    "    lang = 'mein aapake lie kya kar sakatee hu'\n",
    "    \n",
    "    if 'Hindi' in comm:\n",
    "        hin = translator.translate(lang, dest='hi')\n",
    "        speak = gTTS(text=hin.text, lang='hi', slow=False)\n",
    "        speak.save(\"captured_voice.mp3\")\n",
    "        langu = 'hi'\n",
    "        speka()\n",
    "        return langu\n",
    "        \n",
    "    elif 'Kannada' in comm:\n",
    "        kan = translator.translate(lang,dest='kn')\n",
    "        speak = gTTS(text=kan.text, lang='kn', slow=False)\n",
    "        speak.save(\"captured_voice.mp3\")\n",
    "        langu = 'kn'\n",
    "        speka()\n",
    "        return langu\n",
    "        \n",
    "    elif 'English' in comm:\n",
    "        eng = translator.translate(lang,dest='en')\n",
    "        speak = gTTS(text=eng.text, lang='en', slow=False) \n",
    "        speak.save(\"captured_voice.mp3\")\n",
    "        langu = 'en'\n",
    "        speka()\n",
    "        return langu\n",
    "        \n",
    "    else:\n",
    "        talk('Please Select Other language...')\n",
    "\n",
    "    \n",
    "\n",
    "def take_command():\n",
    "    try:\n",
    "        listener = sr.Recognizer()\n",
    "        with sr.Microphone() as source:\n",
    "            print('listening...')\n",
    "            voice = listener.listen(source)\n",
    "            commnd = listener.recognize_google(voice,language='en')\n",
    "            commnd = commnd.lower()\n",
    "            if 'alexa' in commnd:\n",
    "                commnd = commnd.replace('alexa', '')\n",
    "                print(commnd)\n",
    "    except:\n",
    "        pass\n",
    "    return commnd\n",
    "\n",
    "def run_alexa():\n",
    "    commnd = take_command()\n",
    "    print(commnd)\n",
    "    if 'play' in commnd:\n",
    "        song = commnd.replace('play', '')\n",
    "        say = 'playing ' + song\n",
    "        talk(say)\n",
    "        pywhatkit.playonyt(song)\n",
    "    elif 'time' in commnd:\n",
    "        time = datetime.datetime.now().strftime('%I:%M %p')\n",
    "        talk('Current time is ' + time)\n",
    "    elif 'who is' in commnd:\n",
    "        person = commnd.replace('who the heck is', '')\n",
    "        info = wikipedia.summary(person, 1)\n",
    "        print(info)\n",
    "        talk(info)\n",
    "    elif 'date' in commnd:\n",
    "        talk('sorry, I have a headache')\n",
    "    elif 'are you single' in commnd:\n",
    "        talk('I am in a relationship with wifi')\n",
    "    elif 'joke' in commnd:\n",
    "        talk(pyjokes.get_joke())\n",
    "    elif 'lang' in commnd:\n",
    "        transl()\n",
    "    else:\n",
    "        talk('Please say the command again.')\n",
    "\n",
    "\n",
    "for i in range(1,3):\n",
    "    run_alexa()\n"
   ]
  },
  {
   "cell_type": "code",
   "execution_count": 20,
   "id": "3dc33568",
   "metadata": {},
   "outputs": [
    {
     "ename": "ValueError",
     "evalue": "invalid destination language",
     "output_type": "error",
     "traceback": [
      "\u001b[1;31m---------------------------------------------------------------------------\u001b[0m",
      "\u001b[1;31mValueError\u001b[0m                                Traceback (most recent call last)",
      "Input \u001b[1;32mIn [20]\u001b[0m, in \u001b[0;36m<cell line: 1>\u001b[1;34m()\u001b[0m\n\u001b[1;32m----> 1\u001b[0m hin \u001b[38;5;241m=\u001b[39m \u001b[43mtranslator\u001b[49m\u001b[38;5;241;43m.\u001b[39;49m\u001b[43mtranslate\u001b[49m\u001b[43m(\u001b[49m\u001b[38;5;124;43m'\u001b[39;49m\u001b[38;5;124;43mmein aapake lie kya kar sakatee hu\u001b[39;49m\u001b[38;5;124;43m'\u001b[39;49m\u001b[43m,\u001b[49m\u001b[43m \u001b[49m\u001b[43mdest\u001b[49m\u001b[38;5;241;43m=\u001b[39;49m\u001b[38;5;124;43m'\u001b[39;49m\u001b[38;5;124;43mgon\u001b[39;49m\u001b[38;5;124;43m'\u001b[39;49m\u001b[43m)\u001b[49m\n\u001b[0;32m      3\u001b[0m speak \u001b[38;5;241m=\u001b[39m gTTS(text\u001b[38;5;241m=\u001b[39mhin\u001b[38;5;241m.\u001b[39mtext, lang\u001b[38;5;241m=\u001b[39m\u001b[38;5;124m'\u001b[39m\u001b[38;5;124mhi\u001b[39m\u001b[38;5;124m'\u001b[39m, slow\u001b[38;5;241m=\u001b[39m\u001b[38;5;28;01mFalse\u001b[39;00m)\n\u001b[0;32m      4\u001b[0m speak\u001b[38;5;241m.\u001b[39msave(\u001b[38;5;124m\"\u001b[39m\u001b[38;5;124mcaptured_voice.mp3\u001b[39m\u001b[38;5;124m\"\u001b[39m)\n",
      "File \u001b[1;32mD:\\Anaconda\\lib\\site-packages\\googletrans\\client.py:200\u001b[0m, in \u001b[0;36mTranslator.translate\u001b[1;34m(self, text, dest, src, **kwargs)\u001b[0m\n\u001b[0;32m    198\u001b[0m         dest \u001b[38;5;241m=\u001b[39m LANGCODES[dest]\n\u001b[0;32m    199\u001b[0m     \u001b[38;5;28;01melse\u001b[39;00m:\n\u001b[1;32m--> 200\u001b[0m         \u001b[38;5;28;01mraise\u001b[39;00m \u001b[38;5;167;01mValueError\u001b[39;00m(\u001b[38;5;124m'\u001b[39m\u001b[38;5;124minvalid destination language\u001b[39m\u001b[38;5;124m'\u001b[39m)\n\u001b[0;32m    202\u001b[0m \u001b[38;5;28;01mif\u001b[39;00m \u001b[38;5;28misinstance\u001b[39m(text, \u001b[38;5;28mlist\u001b[39m):\n\u001b[0;32m    203\u001b[0m     result \u001b[38;5;241m=\u001b[39m []\n",
      "\u001b[1;31mValueError\u001b[0m: invalid destination language"
     ]
    }
   ],
   "source": [
    "hin = translator.translate('mein aapake lie kya kar sakatee hu', dest='gon')\n",
    "\n",
    "speak = gTTS(text=hin.text, lang='hi', slow=False)\n",
    "speak.save(\"captured_voice.mp3\")\n",
    "# Using OS module to run the translated voice.\n",
    "playsound(\"captured_voice.mp3\")\n",
    "os.remove('captured_voice.mp3')"
   ]
  },
  {
   "cell_type": "code",
   "execution_count": 25,
   "id": "4717e95a",
   "metadata": {},
   "outputs": [
    {
     "name": "stdout",
     "output_type": "stream",
     "text": [
      "listening.....\n",
      "Recognizing.....\n",
      "you have selected the Usha language for your Alexa\n",
      "\n",
      "listening...\n",
      "hay\n",
      "listening...\n",
      "play one dance\n",
      "listening...\n"
     ]
    },
    {
     "ename": "UnboundLocalError",
     "evalue": "local variable 'command' referenced before assignment",
     "output_type": "error",
     "traceback": [
      "\u001b[1;31m---------------------------------------------------------------------------\u001b[0m",
      "\u001b[1;31mUnboundLocalError\u001b[0m                         Traceback (most recent call last)",
      "Input \u001b[1;32mIn [25]\u001b[0m, in \u001b[0;36m<cell line: 87>\u001b[1;34m()\u001b[0m\n\u001b[0;32m     84\u001b[0m         talk(\u001b[38;5;124m'\u001b[39m\u001b[38;5;124mPlease say the command again.\u001b[39m\u001b[38;5;124m'\u001b[39m)\n\u001b[0;32m     87\u001b[0m \u001b[38;5;28;01mfor\u001b[39;00m i \u001b[38;5;129;01min\u001b[39;00m \u001b[38;5;28mrange\u001b[39m(\u001b[38;5;241m1\u001b[39m,\u001b[38;5;241m5\u001b[39m):\n\u001b[1;32m---> 88\u001b[0m     \u001b[43mrun_alexa\u001b[49m\u001b[43m(\u001b[49m\u001b[43m)\u001b[49m\n",
      "Input \u001b[1;32mIn [25]\u001b[0m, in \u001b[0;36mrun_alexa\u001b[1;34m()\u001b[0m\n\u001b[0;32m     60\u001b[0m \u001b[38;5;28;01mdef\u001b[39;00m \u001b[38;5;21mrun_alexa\u001b[39m():\n\u001b[1;32m---> 61\u001b[0m     commnd \u001b[38;5;241m=\u001b[39m \u001b[43mtake_command\u001b[49m\u001b[43m(\u001b[49m\u001b[43m)\u001b[49m\n\u001b[0;32m     62\u001b[0m     \u001b[38;5;28mprint\u001b[39m(commnd)\n\u001b[0;32m     63\u001b[0m     \u001b[38;5;28;01mif\u001b[39;00m \u001b[38;5;124m'\u001b[39m\u001b[38;5;124mplay\u001b[39m\u001b[38;5;124m'\u001b[39m \u001b[38;5;129;01min\u001b[39;00m commnd:\n",
      "Input \u001b[1;32mIn [25]\u001b[0m, in \u001b[0;36mtake_command\u001b[1;34m()\u001b[0m\n\u001b[0;32m     55\u001b[0m \u001b[38;5;28;01mexcept\u001b[39;00m:\n\u001b[0;32m     56\u001b[0m     \u001b[38;5;28;01mpass\u001b[39;00m\n\u001b[1;32m---> 57\u001b[0m \u001b[38;5;28;01mreturn\u001b[39;00m \u001b[43mcommand\u001b[49m\n",
      "\u001b[1;31mUnboundLocalError\u001b[0m: local variable 'command' referenced before assignment"
     ]
    }
   ],
   "source": [
    "from googletrans import Translator\n",
    "import speech_recognition as sr\n",
    "import pyttsx3\n",
    "import pywhatkit\n",
    "import datetime\n",
    "import wikipedia\n",
    "import pyjokes\n",
    "\n",
    "listener = sr.Recognizer()\n",
    "engine = pyttsx3.init()\n",
    "voices = engine.getProperty('voices')\n",
    "engine.setProperty('voice', voices[1].id)\n",
    "\n",
    "def talk(text):\n",
    "    engine.say(text)\n",
    "    engine.runAndWait()\n",
    "\n",
    "\n",
    "def take_command():\n",
    "    try:\n",
    "        with sr.Microphone() as source:\n",
    "            print('listening...')\n",
    "            voice = listener.listen(source)\n",
    "            command = listener.recognize_google(voice)\n",
    "            command = command.lower()\n",
    "            if 'alexa' in command:\n",
    "                command = command.replace('alexa', '')\n",
    "                print(command)\n",
    "    except:\n",
    "        pass\n",
    "    return command\n",
    "\n",
    "\n",
    "def run_alexa():\n",
    "    commnd = take_command()\n",
    "    print(commnd)\n",
    "    if 'play' in commnd:\n",
    "        song = commnd.replace('play', '')\n",
    "        talk('playing ' + song)\n",
    "        pywhatkit.playonyt(song)\n",
    "    elif 'time' in commnd:\n",
    "        time = datetime.datetime.now().strftime('%I:%M %p')\n",
    "        talk('Current time is ' + time)\n",
    "    elif 'who the heck is' in commnd:\n",
    "        person = commnd.replace('who the heck is', '')\n",
    "        info = wikipedia.summary(person, 1)\n",
    "        print(info)\n",
    "        talk(info)\n",
    "    elif 'date' in commnd:\n",
    "        talk('sorry, I have a headache')\n",
    "    elif 'are you single' in commnd:\n",
    "        talk('I am in a relationship with wifi')\n",
    "    elif 'joke' in commnd:\n",
    "        talk(pyjokes.get_joke())\n",
    "    elif 'varun' in commnd:\n",
    "        talk('Varun is bot person.')\n",
    "    else:\n",
    "        talk('Please say the command again.')\n",
    "\n",
    "\n",
    "for i in range(1,5):\n",
    "    run_alexa() "
   ]
  },
  {
   "cell_type": "code",
   "execution_count": 8,
   "id": "0f873bbd",
   "metadata": {},
   "outputs": [
    {
     "name": "stdout",
     "output_type": "stream",
     "text": [
      "^C\n",
      "Note: you may need to restart the kernel to use updated packages.\n"
     ]
    }
   ],
   "source": [
    "pip uninstall playsound"
   ]
  },
  {
   "cell_type": "code",
   "execution_count": 9,
   "id": "b972f529",
   "metadata": {},
   "outputs": [
    {
     "name": "stdout",
     "output_type": "stream",
     "text": [
      "Collecting playsound==1.2.2\n",
      "  Downloading playsound-1.2.2-py2.py3-none-any.whl (6.0 kB)\n",
      "Installing collected packages: playsound\n",
      "  Attempting uninstall: playsound\n",
      "    Found existing installation: playsound 1.3.0\n",
      "    Uninstalling playsound-1.3.0:\n",
      "      Successfully uninstalled playsound-1.3.0\n",
      "Successfully installed playsound-1.2.2\n",
      "Note: you may need to restart the kernel to use updated packages.\n"
     ]
    },
    {
     "name": "stderr",
     "output_type": "stream",
     "text": [
      "WARNING: Retrying (Retry(total=4, connect=None, read=None, redirect=None, status=None)) after connection broken by 'NewConnectionError('<pip._vendor.urllib3.connection.HTTPSConnection object at 0x00000171F22AE8B0>: Failed to establish a new connection: [Errno 11001] getaddrinfo failed')': /simple/playsound/\n"
     ]
    }
   ],
   "source": [
    "pip install playsound==1.2.2\n",
    "pip install googletrans==3.1.0a0"
   ]
  },
  {
   "cell_type": "code",
   "execution_count": 2,
   "id": "6052676d",
   "metadata": {},
   "outputs": [],
   "source": [
    "from playsound import playsound\n",
    "playsound(\"captured_voice.mp3\")"
   ]
  },
  {
   "cell_type": "code",
   "execution_count": null,
   "id": "f3e04269",
   "metadata": {},
   "outputs": [],
   "source": [
    "engine.say('Select the language for Your Alexa...')\n",
    "engine.runAndWait()\n",
    "def translator():\n",
    "    r = sr.Recognizer()\n",
    "    with sr.Microphone() as source:\n",
    "        print(\"listening.....\")\n",
    "        r.pause_threshold = 1\n",
    "        audio = r.listen(source)\n",
    "\n",
    "    try:\n",
    "        print(\"Recognizing.....\")\n",
    "        query = r.recognize_google(audio, language='en-in')\n",
    "        print(f\"you have selected the {query} language for your Alexa\\n\")\n",
    "        engine.say(f\"you have selected the {query} language for your Alexa\\n\")\n",
    "        engine.runAndWait()\n",
    "    except Exception as e:\n",
    "        print(\"say that again please.....\")\n",
    "        return 'None'\n",
    "    \n",
    "    return query\n",
    "\n",
    "# translator()"
   ]
  },
  {
   "cell_type": "code",
   "execution_count": null,
   "id": "e2b2fe25",
   "metadata": {},
   "outputs": [],
   "source": []
  },
  {
   "cell_type": "code",
   "execution_count": null,
   "id": "7ff5f1dd",
   "metadata": {},
   "outputs": [],
   "source": []
  },
  {
   "cell_type": "code",
   "execution_count": null,
   "id": "ec1be0bf",
   "metadata": {},
   "outputs": [],
   "source": []
  },
  {
   "cell_type": "code",
   "execution_count": 33,
   "id": "f7924d2a",
   "metadata": {},
   "outputs": [
    {
     "ename": "ValueError",
     "evalue": "invalid destination language",
     "output_type": "error",
     "traceback": [
      "\u001b[1;31m---------------------------------------------------------------------------\u001b[0m",
      "\u001b[1;31mValueError\u001b[0m                                Traceback (most recent call last)",
      "Input \u001b[1;32mIn [33]\u001b[0m, in \u001b[0;36m<cell line: 62>\u001b[1;34m()\u001b[0m\n\u001b[0;32m     58\u001b[0m         talk(\u001b[38;5;124m'\u001b[39m\u001b[38;5;124mPlease Select Other language...\u001b[39m\u001b[38;5;124m'\u001b[39m)\n\u001b[0;32m     60\u001b[0m     \u001b[38;5;28;01mreturn\u001b[39;00m langu\n\u001b[1;32m---> 62\u001b[0m \u001b[43mtransl\u001b[49m\u001b[43m(\u001b[49m\u001b[43m)\u001b[49m\n",
      "Input \u001b[1;32mIn [33]\u001b[0m, in \u001b[0;36mtransl\u001b[1;34m()\u001b[0m\n\u001b[0;32m     35\u001b[0m \u001b[38;5;28;01mdef\u001b[39;00m \u001b[38;5;21mtransl\u001b[39m():\n\u001b[1;32m---> 36\u001b[0m     command \u001b[38;5;241m=\u001b[39m \u001b[43mlanguage\u001b[49m\u001b[43m(\u001b[49m\u001b[43m)\u001b[49m\n\u001b[0;32m     37\u001b[0m     lang \u001b[38;5;241m=\u001b[39m \u001b[38;5;124m'\u001b[39m\u001b[38;5;124mmein aapake lie kya kar sakatee hu\u001b[39m\u001b[38;5;124m'\u001b[39m\n\u001b[0;32m     39\u001b[0m     \u001b[38;5;28;01mif\u001b[39;00m \u001b[38;5;124m'\u001b[39m\u001b[38;5;124mHindi\u001b[39m\u001b[38;5;124m'\u001b[39m \u001b[38;5;129;01min\u001b[39;00m command:\n",
      "Input \u001b[1;32mIn [33]\u001b[0m, in \u001b[0;36mlanguage\u001b[1;34m()\u001b[0m\n\u001b[0;32m      3\u001b[0m \u001b[38;5;28;01mdef\u001b[39;00m \u001b[38;5;21mlanguage\u001b[39m():\n\u001b[1;32m----> 4\u001b[0m     \u001b[43mtalk\u001b[49m\u001b[43m(\u001b[49m\u001b[38;5;124;43m'\u001b[39;49m\u001b[38;5;124;43mSelect the language for Your Alexa...\u001b[39;49m\u001b[38;5;124;43m'\u001b[39;49m\u001b[43m)\u001b[49m\n\u001b[0;32m      5\u001b[0m     \u001b[38;5;28;01mtry\u001b[39;00m:\n\u001b[0;32m      6\u001b[0m         r \u001b[38;5;241m=\u001b[39m sr\u001b[38;5;241m.\u001b[39mRecognizer()\n",
      "Input \u001b[1;32mIn [33]\u001b[0m, in \u001b[0;36mtalk\u001b[1;34m(text)\u001b[0m\n\u001b[0;32m     29\u001b[0m \u001b[38;5;28;01mdef\u001b[39;00m \u001b[38;5;21mtalk\u001b[39m(text):\n\u001b[1;32m---> 30\u001b[0m     tr \u001b[38;5;241m=\u001b[39m \u001b[43mtranslator\u001b[49m\u001b[38;5;241;43m.\u001b[39;49m\u001b[43mtranslate\u001b[49m\u001b[43m(\u001b[49m\u001b[43mtext\u001b[49m\u001b[43m,\u001b[49m\u001b[43mdest\u001b[49m\u001b[38;5;241;43m=\u001b[39;49m\u001b[43mlangu\u001b[49m\u001b[43m)\u001b[49m\n\u001b[0;32m     31\u001b[0m     speak \u001b[38;5;241m=\u001b[39m gTTS(text\u001b[38;5;241m=\u001b[39mtr\u001b[38;5;241m.\u001b[39mtext, lang\u001b[38;5;241m=\u001b[39mlangu, slow\u001b[38;5;241m=\u001b[39m\u001b[38;5;28;01mFalse\u001b[39;00m)\n\u001b[0;32m     32\u001b[0m     speka()\n",
      "File \u001b[1;32mD:\\Anaconda\\lib\\site-packages\\googletrans\\client.py:200\u001b[0m, in \u001b[0;36mTranslator.translate\u001b[1;34m(self, text, dest, src, **kwargs)\u001b[0m\n\u001b[0;32m    198\u001b[0m         dest \u001b[38;5;241m=\u001b[39m LANGCODES[dest]\n\u001b[0;32m    199\u001b[0m     \u001b[38;5;28;01melse\u001b[39;00m:\n\u001b[1;32m--> 200\u001b[0m         \u001b[38;5;28;01mraise\u001b[39;00m \u001b[38;5;167;01mValueError\u001b[39;00m(\u001b[38;5;124m'\u001b[39m\u001b[38;5;124minvalid destination language\u001b[39m\u001b[38;5;124m'\u001b[39m)\n\u001b[0;32m    202\u001b[0m \u001b[38;5;28;01mif\u001b[39;00m \u001b[38;5;28misinstance\u001b[39m(text, \u001b[38;5;28mlist\u001b[39m):\n\u001b[0;32m    203\u001b[0m     result \u001b[38;5;241m=\u001b[39m []\n",
      "\u001b[1;31mValueError\u001b[0m: invalid destination language"
     ]
    }
   ],
   "source": [
    "langu = 'en-in'\n",
    "\n",
    "def language():\n",
    "    talk('Select the language for Your Alexa...')\n",
    "    try:\n",
    "        r = sr.Recognizer()\n",
    "        with sr.Microphone() as source:\n",
    "            print(\"listening.....\")\n",
    "            r.pause_threshold = 1\n",
    "            audio = r.listen(source)\n",
    "            \n",
    "        print(\"Recognizing.....\")\n",
    "        command = r.recognize_google(audio, language='en-in')\n",
    "        abc = f\"you have selected the {command} language for your Alexa\\n\"\n",
    "        print(abc)\n",
    "        talk(abc)\n",
    "        transl(command)\n",
    "        \n",
    "    except Exception as e:\n",
    "        pass\n",
    "    \n",
    "    return command\n",
    "\n",
    "def speka():\n",
    "        speak.save(\"captured_voice.mp3\")\n",
    "        playsound(\"captured_voice.mp3\")\n",
    "        os.remove('captured_voice.mp3')\n",
    "        \n",
    "def talk(text):\n",
    "    tr = translator.translate(text,dest=langu)\n",
    "    speak = gTTS(text=tr.text, lang=langu, slow=False)\n",
    "    speka()\n",
    "\n",
    "\n",
    "def transl():\n",
    "    command = language()\n",
    "    lang = 'mein aapake lie kya kar sakatee hu'\n",
    "    \n",
    "    if 'Hindi' in command:\n",
    "        hin = translator.translate(lang, dest='hi')\n",
    "        speak = gTTS(text=hin.text, lang='hi', slow=False)\n",
    "        langu = 'hi'\n",
    "        speka()\n",
    "        \n",
    "    elif 'Kannada' in command:\n",
    "        kan = translator.translate(lang,dest='kn')\n",
    "        speak = gTTS(text=kan.text, lang='kn', slow=False)\n",
    "        langu = 'kn'\n",
    "        speka()\n",
    "        \n",
    "    elif 'English' in command:\n",
    "        eng = translator.translate(lang,dest='en-in')\n",
    "        speak = gTTS(text=eng.text, lang='en-in', slow=False)   \n",
    "        langu = 'en-in'\n",
    "        speka()\n",
    "        \n",
    "    else:\n",
    "        talk('Please Select Other language...')\n",
    "\n",
    "    return langu\n",
    "\n",
    "transl()"
   ]
  },
  {
   "cell_type": "code",
   "execution_count": null,
   "id": "c9780909",
   "metadata": {},
   "outputs": [],
   "source": []
  },
  {
   "cell_type": "code",
   "execution_count": null,
   "id": "3342bce4",
   "metadata": {},
   "outputs": [],
   "source": []
  },
  {
   "cell_type": "code",
   "execution_count": null,
   "id": "bf32b395",
   "metadata": {},
   "outputs": [],
   "source": []
  },
  {
   "cell_type": "code",
   "execution_count": 53,
   "id": "45c74f81",
   "metadata": {},
   "outputs": [
    {
     "name": "stdout",
     "output_type": "stream",
     "text": [
      "\n"
     ]
    }
   ],
   "source": [
    "langu = 'hi'\n",
    "\n",
    "def speka():\n",
    "    playsound(\"captured_voice.mp3\")\n",
    "    os.remove('captured_voice.mp3')\n",
    "        \n",
    "def talk(text):\n",
    "    tr = translator.translate(text,dest = langu)\n",
    "    speak = gTTS(text=tr.text, lang=langu, slow=False)\n",
    "    speak.save(\"captured_voice.mp3\")\n",
    "    print()\n",
    "    speka()\n",
    "    \n",
    "talk('Hello....world')"
   ]
  },
  {
   "cell_type": "code",
   "execution_count": null,
   "id": "8ae2b237",
   "metadata": {},
   "outputs": [],
   "source": []
  },
  {
   "cell_type": "code",
   "execution_count": null,
   "id": "2c129a30",
   "metadata": {},
   "outputs": [],
   "source": []
  },
  {
   "cell_type": "code",
   "execution_count": 45,
   "id": "603f247f",
   "metadata": {},
   "outputs": [
    {
     "name": "stdout",
     "output_type": "stream",
     "text": [
      "Speak 'hello' to initiate the Translation !\n",
      "~~~~~~~~~~~~~~~~~~~~~~~~~~~~~~~~~~~~~~~~~~~~\n",
      "Speak a stentence...\n",
      "Phase to be Translated :what are you doing\n"
     ]
    }
   ],
   "source": [
    "# Importing necessary modules required\n",
    "import speech_recognition as spr\n",
    "from googletrans import Translator\n",
    "from gtts import gTTS\n",
    "import os\n",
    "\n",
    "\n",
    "# Creating Recogniser() class object\n",
    "recog1 = spr.Recognizer()\n",
    "\n",
    "# Creating microphone instance\n",
    "mc = spr.Microphone()\n",
    "\n",
    "\n",
    "# Capture Voice\n",
    "with mc as source:\n",
    "\tprint(\"Speak 'hello' to initiate the Translation !\")\n",
    "\tprint(\"~~~~~~~~~~~~~~~~~~~~~~~~~~~~~~~~~~~~~~~~~~~~\")\n",
    "\trecog1.adjust_for_ambient_noise(source, duration=0.2)\n",
    "\taudio = recog1.listen(source)\n",
    "\tMyText = recog1.recognize_google(audio)\n",
    "\tMyText = MyText.lower()\n",
    "\n",
    "# Here initialising the recorder with\n",
    "# hello, whatever after that hello it\n",
    "# will recognise it.\n",
    "if 'hello' in MyText:\n",
    "\t\n",
    "\t# Translator method for translation\n",
    "\ttranslator = Translator()\n",
    "\t\n",
    "\t# short form of english in which\n",
    "\t# you will speak\n",
    "\tfrom_lang = 'en'\n",
    "\t\n",
    "\t# In which we want to convert, short\n",
    "\t# form of hindi\n",
    "\tto_lang = 'hi'\n",
    "\t\n",
    "\twith mc as source:\n",
    "\t\t\n",
    "\t\tprint(\"Speak a stentence...\")\n",
    "\t\trecog1.adjust_for_ambient_noise(source, duration=0.2)\n",
    "\t\t\n",
    "\t\t# Storing the speech into audio variable\n",
    "\t\taudio = recog1.listen(source)\n",
    "\t\t\n",
    "\t\t# Using recognize.google() method to\n",
    "\t\t# convert audio into text\n",
    "\t\tget_sentence = recog1.recognize_google(audio)\n",
    "\n",
    "\t\t# Using try and except block to improve\n",
    "\t\t# its efficiency.\n",
    "\t\ttry:\n",
    "\t\t\t\n",
    "\t\t\t# Printing Speech which need to\n",
    "\t\t\t# be translated.\n",
    "\t\t\tprint(\"Phase to be Translated :\"+ get_sentence)\n",
    "\n",
    "\t\t\t# Using translate() method which requires\n",
    "\t\t\t# three arguments, 1st the sentence which\n",
    "\t\t\t# needs to be translated 2nd source language\n",
    "\t\t\t# and 3rd to which we need to translate in\n",
    "\t\t\ttext_to_translate = translator.translate(get_sentence,\n",
    "\t\t\t\t\t\t\t\t\t\t\t\t\tsrc= from_lang,\n",
    "\t\t\t\t\t\t\t\t\t\t\t\t\tdest= to_lang)\n",
    "\t\t\t\n",
    "\t\t\t# Storing the translated text in text\n",
    "\t\t\t# variable\n",
    "\t\t\ttext = text_to_translate.text\n",
    "\n",
    "\t\t\t# Using Google-Text-to-Speech ie, gTTS() method\n",
    "\t\t\t# to speak the translated text into the\n",
    "\t\t\t# destination language which is stored in to_lang.\n",
    "\t\t\t# Also, we have given 3rd argument as False because\n",
    "\t\t\t# by default it speaks very slowly\n",
    "\t\t\tspeak = gTTS(text=text, lang=to_lang, slow= False)\n",
    "\n",
    "\t\t\t# Using save() method to save the translated\n",
    "\t\t\t# speech in capture_voice.mp3\n",
    "\t\t\tspeak.save(\"captured_voice.mp3\")\t\n",
    "\t\t\t\n",
    "\t\t\t# Using OS module to run the translated voice.\n",
    "\t\t\tos.system(\"start captured_voice.mp3\")\n",
    "\n",
    "\t\t# Here we are using except block for UnknownValue\n",
    "\t\t# and Request Error and printing the same to\n",
    "\t\t# provide better service to the user.\n",
    "\t\texcept spr.UnknownValueError:\n",
    "\t\t\tprint(\"Unable to Understand the Input\")\n",
    "\t\t\t\n",
    "\t\texcept spr.RequestError as e:\n",
    "\t\t\tprint(\"Unable to provide Required Output\".format(e))\n"
   ]
  },
  {
   "cell_type": "code",
   "execution_count": 86,
   "id": "0989ceb7",
   "metadata": {},
   "outputs": [
    {
     "name": "stdout",
     "output_type": "stream",
     "text": [
      "en\n"
     ]
    }
   ],
   "source": [
    "def transl():\n",
    "    comm = 'Hindi'\n",
    "    lang = 'mein aapake lie kya kar sakatee hu'\n",
    "    \n",
    "    if 'Hindi' in comm:\n",
    "        hin = translator.translate(lang, dest='hi')\n",
    "        speak = gTTS(text=hin.text, lang='hi', slow=False)\n",
    "        speak.save(\"captured_voice.mp3\")\n",
    "        langu = 'hi'\n",
    "        speka()\n",
    "        \n",
    "    elif 'Kannada' in comm:\n",
    "        kan = translator.translate(lang,dest='kn')\n",
    "        speak = gTTS(text=kan.text, lang='kn', slow=False)\n",
    "        speak.save(\"captured_voice.mp3\")\n",
    "        langu = 'kn'\n",
    "        speka()\n",
    "        \n",
    "    elif 'English' in comm:\n",
    "        eng = translator.translate(lang,dest='en')\n",
    "        speak = gTTS(text=eng.text, lang='en', slow=False) \n",
    "        speak.save(\"captured_voice.mp3\")\n",
    "        langu = 'en'\n",
    "        speka()\n",
    "        \n",
    "    else:\n",
    "        talk('Please Select Other language...')\n",
    "\n",
    "    return langu\n",
    "\n",
    "transl()\n",
    "print(langu)"
   ]
  },
  {
   "cell_type": "code",
   "execution_count": null,
   "id": "8bf133d7",
   "metadata": {},
   "outputs": [],
   "source": []
  }
 ],
 "metadata": {
  "kernelspec": {
   "display_name": "Python 3 (ipykernel)",
   "language": "python",
   "name": "python3"
  },
  "language_info": {
   "codemirror_mode": {
    "name": "ipython",
    "version": 3
   },
   "file_extension": ".py",
   "mimetype": "text/x-python",
   "name": "python",
   "nbconvert_exporter": "python",
   "pygments_lexer": "ipython3",
   "version": "3.9.12"
  }
 },
 "nbformat": 4,
 "nbformat_minor": 5
}
